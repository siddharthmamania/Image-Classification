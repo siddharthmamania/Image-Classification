{
 "cells": [
  {
   "cell_type": "markdown",
   "metadata": {},
   "source": [
    "# *Image Classification*"
   ]
  },
  {
   "cell_type": "code",
   "execution_count": 1,
   "metadata": {},
   "outputs": [],
   "source": [
    "#Importing the libraries\n",
    "import cv2            \n",
    "import numpy as np    \n",
    "import pandas as pd\n",
    "import matplotlib.pyplot as plt\n",
    "import random"
   ]
  },
  {
   "cell_type": "code",
   "execution_count": 2,
   "metadata": {},
   "outputs": [],
   "source": [
    "import keras\n",
    "from keras import metrics\n",
    "from keras import layers\n",
    "from keras.layers import Conv2D, Activation, MaxPooling2D, Dense, Flatten, Dropout\n",
    "from keras import models\n",
    "from keras.models import Sequential\n",
    "from keras import optimizers\n",
    "from keras.preprocessing.image import ImageDataGenerator"
   ]
  },
  {
   "cell_type": "markdown",
   "metadata": {},
   "source": [
    "# Initializing Convolution Neural Network"
   ]
  },
  {
   "cell_type": "code",
   "execution_count": 3,
   "metadata": {},
   "outputs": [],
   "source": [
    "classifier = Sequential()\n",
    "classifier.add(Conv2D(32,(3,3),activation = 'relu',input_shape = (64,64,3)))   # Convolutional Layer\n",
    "classifier.add(MaxPooling2D(pool_size = (2,2)))                                # Pooling Layer\n",
    "\n",
    "classifier.add(Conv2D(64,(3,3),activation = 'relu')) \n",
    "classifier.add(MaxPooling2D(pool_size =(2,2)))\n",
    "\n",
    "classifier.add(Conv2D(64,(3,3),activation = 'relu')) \n",
    "classifier.add(MaxPooling2D(pool_size =(2,2)))\n",
    "\n",
    "classifier.add(Flatten())                                                      # Flatten Layer\n",
    "classifier.add(Dense(64, activation = 'relu'))\n",
    "classifier.add(Dropout(0.5))                                                   # Dropout Layer\n",
    "classifier.add(Dense(1, activation = 'sigmoid'))                               # Output Layer"
   ]
  },
  {
   "cell_type": "markdown",
   "metadata": {},
   "source": [
    "## Summary Of the Model"
   ]
  },
  {
   "cell_type": "code",
   "execution_count": 4,
   "metadata": {},
   "outputs": [
    {
     "name": "stdout",
     "output_type": "stream",
     "text": [
      "Model: \"sequential\"\n",
      "_________________________________________________________________\n",
      "Layer (type)                 Output Shape              Param #   \n",
      "=================================================================\n",
      "conv2d (Conv2D)              (None, 62, 62, 32)        896       \n",
      "_________________________________________________________________\n",
      "max_pooling2d (MaxPooling2D) (None, 31, 31, 32)        0         \n",
      "_________________________________________________________________\n",
      "conv2d_1 (Conv2D)            (None, 29, 29, 64)        18496     \n",
      "_________________________________________________________________\n",
      "max_pooling2d_1 (MaxPooling2 (None, 14, 14, 64)        0         \n",
      "_________________________________________________________________\n",
      "conv2d_2 (Conv2D)            (None, 12, 12, 64)        36928     \n",
      "_________________________________________________________________\n",
      "max_pooling2d_2 (MaxPooling2 (None, 6, 6, 64)          0         \n",
      "_________________________________________________________________\n",
      "flatten (Flatten)            (None, 2304)              0         \n",
      "_________________________________________________________________\n",
      "dense (Dense)                (None, 64)                147520    \n",
      "_________________________________________________________________\n",
      "dropout (Dropout)            (None, 64)                0         \n",
      "_________________________________________________________________\n",
      "dense_1 (Dense)              (None, 1)                 65        \n",
      "=================================================================\n",
      "Total params: 203,905\n",
      "Trainable params: 203,905\n",
      "Non-trainable params: 0\n",
      "_________________________________________________________________\n"
     ]
    }
   ],
   "source": [
    "classifier.summary()"
   ]
  },
  {
   "cell_type": "markdown",
   "metadata": {},
   "source": [
    "## Compiling the Model"
   ]
  },
  {
   "cell_type": "code",
   "execution_count": 5,
   "metadata": {},
   "outputs": [],
   "source": [
    "classifier.compile(optimizer = 'adam',\n",
    "                  loss= 'binary_crossentropy',\n",
    "                  metrics = ['accuracy',metrics.Precision(),metrics.Recall()])"
   ]
  },
  {
   "cell_type": "markdown",
   "metadata": {},
   "source": [
    "### Data Augmentation"
   ]
  },
  {
   "cell_type": "code",
   "execution_count": 6,
   "metadata": {},
   "outputs": [],
   "source": [
    "train_datagen = ImageDataGenerator(rescale =1./255,\n",
    "                                   shear_range =0.2,\n",
    "                                   zoom_range = 0.2,\n",
    "                                   horizontal_flip =True)\n",
    "test_datagen = ImageDataGenerator(rescale = 1./255)"
   ]
  },
  {
   "cell_type": "markdown",
   "metadata": {},
   "source": [
    "### Setting Train & Test directories"
   ]
  },
  {
   "cell_type": "code",
   "execution_count": 7,
   "metadata": {},
   "outputs": [
    {
     "name": "stdout",
     "output_type": "stream",
     "text": [
      "Found 8000 images belonging to 2 classes.\n",
      "Found 2000 images belonging to 2 classes.\n"
     ]
    }
   ],
   "source": [
    "training_set = train_datagen.flow_from_directory('F:/dataset/training_set',\n",
    "                                                target_size = (64,64),\n",
    "                                                color_mode = 'rgb',\n",
    "                                                batch_size = 64,\n",
    "                                                class_mode = 'binary')\n",
    "test_set = train_datagen.flow_from_directory('F:/dataset/test_set',\n",
    "                                                target_size = (64,64),\n",
    "                                                color_mode = 'rgb',\n",
    "                                                batch_size = 64,\n",
    "                                                class_mode = 'binary')"
   ]
  },
  {
   "cell_type": "markdown",
   "metadata": {},
   "source": [
    "## Training the Classifier"
   ]
  },
  {
   "cell_type": "code",
   "execution_count": 8,
   "metadata": {},
   "outputs": [
    {
     "name": "stdout",
     "output_type": "stream",
     "text": [
      "Epoch 1/10\n",
      "125/125 [==============================] - 159s 1s/step - loss: 0.6864 - accuracy: 0.5451 - precision: 0.5462 - recall: 0.5340 - val_loss: 0.6633 - val_accuracy: 0.6025 - val_precision: 0.6422 - val_recall: 0.4630\n",
      "Epoch 2/10\n",
      "125/125 [==============================] - 157s 1s/step - loss: 0.6578 - accuracy: 0.6086 - precision: 0.6011 - recall: 0.6460 - val_loss: 0.6115 - val_accuracy: 0.6785 - val_precision: 0.6968 - val_recall: 0.6320\n",
      "Epoch 3/10\n",
      "125/125 [==============================] - 156s 1s/step - loss: 0.6167 - accuracy: 0.6650 - precision: 0.6652 - recall: 0.6643 - val_loss: 0.5909 - val_accuracy: 0.6870 - val_precision: 0.6596 - val_recall: 0.7730\n",
      "Epoch 4/10\n",
      "125/125 [==============================] - 157s 1s/step - loss: 0.5921 - accuracy: 0.6848 - precision: 0.6892 - recall: 0.6730 - val_loss: 0.5532 - val_accuracy: 0.7100 - val_precision: 0.7206 - val_recall: 0.6860\n",
      "Epoch 5/10\n",
      "125/125 [==============================] - 161s 1s/step - loss: 0.5593 - accuracy: 0.7146 - precision: 0.7269 - recall: 0.6875 - val_loss: 0.5378 - val_accuracy: 0.7365 - val_precision: 0.7188 - val_recall: 0.7770\n",
      "Epoch 6/10\n",
      "125/125 [==============================] - 156s 1s/step - loss: 0.5368 - accuracy: 0.7327 - precision: 0.7430 - recall: 0.7117 - val_loss: 0.5300 - val_accuracy: 0.7295 - val_precision: 0.6767 - val_recall: 0.8790\n",
      "Epoch 7/10\n",
      "125/125 [==============================] - 158s 1s/step - loss: 0.5211 - accuracy: 0.7411 - precision: 0.7479 - recall: 0.7275 - val_loss: 0.5052 - val_accuracy: 0.7740 - val_precision: 0.7866 - val_recall: 0.7520\n",
      "Epoch 8/10\n",
      "125/125 [==============================] - 157s 1s/step - loss: 0.4900 - accuracy: 0.7644 - precision: 0.7759 - recall: 0.7435 - val_loss: 0.4862 - val_accuracy: 0.7745 - val_precision: 0.8636 - val_recall: 0.6520\n",
      "Epoch 9/10\n",
      "125/125 [==============================] - 157s 1s/step - loss: 0.4735 - accuracy: 0.7741 - precision: 0.7814 - recall: 0.7613 - val_loss: 0.4616 - val_accuracy: 0.7825 - val_precision: 0.7964 - val_recall: 0.7590\n",
      "Epoch 10/10\n",
      "125/125 [==============================] - 158s 1s/step - loss: 0.4572 - accuracy: 0.7901 - precision: 0.7954 - recall: 0.7812 - val_loss: 0.4754 - val_accuracy: 0.7780 - val_precision: 0.8519 - val_recall: 0.6730\n"
     ]
    },
    {
     "data": {
      "text/plain": [
       "<tensorflow.python.keras.callbacks.History at 0x102d4788>"
      ]
     },
     "execution_count": 8,
     "metadata": {},
     "output_type": "execute_result"
    }
   ],
   "source": [
    "from IPython.display import display\n",
    "from PIL import Image\n",
    "classifier.fit(training_set,\n",
    "               epochs = 10,\n",
    "               validation_data=test_set)"
   ]
  },
  {
   "cell_type": "markdown",
   "metadata": {},
   "source": [
    "## Testing the Classifier"
   ]
  },
  {
   "cell_type": "code",
   "execution_count": 9,
   "metadata": {},
   "outputs": [
    {
     "data": {
      "image/png": "[encoded data removed]",
      "text/plain": [
       "<Figure size 432x288 with 1 Axes>"
      ]
     },
     "metadata": {
      "needs_background": "light"
     },
     "output_type": "display_data"
    }
   ],
   "source": [
    "from keras.preprocessing import image\n",
    "test_image =image.load_img('F:/dataset/test/cat.4045.jpg',target_size =(64,64))\n",
    "x =image.img_to_array(test_image)\n",
    "x =np.expand_dims(x, axis =0)\n",
    "i = 0\n",
    "text_labels = []\n",
    "for batch in test_datagen.flow(x, batch_size = 1):\n",
    "    pred = classifier.predict(batch)\n",
    "    if pred > 0.5:\n",
    "        text_labels.append('Dog')\n",
    "    else:\n",
    "        text_labels.append('Cat')\n",
    "        \n",
    "    plt.title(\"This is a \" + text_labels[i])\n",
    "    \n",
    "    imgplot = plt.imshow(batch[0])\n",
    "    i += 1\n",
    "    if i % 10 == 0:\n",
    "        break\n",
    "plt.show()"
   ]
  }
 ],
 "metadata": {
  "kernelspec": {
   "display_name": "Python 3",
   "language": "python",
   "name": "python3"
  },
  "language_info": {
   "codemirror_mode": {
    "name": "ipython",
    "version": 3
   },
   "file_extension": ".py",
   "mimetype": "text/x-python",
   "name": "python",
   "nbconvert_exporter": "python",
   "pygments_lexer": "ipython3",
   "version": "3.7.6"
  }
 },
 "nbformat": 4,
 "nbformat_minor": 4
}
